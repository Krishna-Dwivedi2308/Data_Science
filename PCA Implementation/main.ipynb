{
 "cells": [
  {
   "cell_type": "markdown",
   "id": "27b6d775",
   "metadata": {},
   "source": [
    "## This is the implemantation of PCA"
   ]
  },
  {
   "cell_type": "code",
   "execution_count": 1,
   "id": "33eb457e",
   "metadata": {},
   "outputs": [],
   "source": [
    "import numpy as np\n",
    "import pandas as pd\n",
    "import matplotlib.pyplot as plt\n",
    "import seaborn as sns\n"
   ]
  },
  {
   "cell_type": "markdown",
   "id": "038aaad4",
   "metadata": {},
   "source": [
    "Now create a dummy dataset"
   ]
  },
  {
   "cell_type": "code",
   "execution_count": 2,
   "id": "c37f64e3",
   "metadata": {},
   "outputs": [],
   "source": [
    "data=np.array([[3,7],[-4,-6],[2,4],[1,3],[5,6]])"
   ]
  },
  {
   "cell_type": "code",
   "execution_count": 3,
   "id": "5851b3b0",
   "metadata": {},
   "outputs": [
    {
     "data": {
      "text/html": [
       "<div>\n",
       "<style scoped>\n",
       "    .dataframe tbody tr th:only-of-type {\n",
       "        vertical-align: middle;\n",
       "    }\n",
       "\n",
       "    .dataframe tbody tr th {\n",
       "        vertical-align: top;\n",
       "    }\n",
       "\n",
       "    .dataframe thead th {\n",
       "        text-align: right;\n",
       "    }\n",
       "</style>\n",
       "<table border=\"1\" class=\"dataframe\">\n",
       "  <thead>\n",
       "    <tr style=\"text-align: right;\">\n",
       "      <th></th>\n",
       "      <th>Feature1</th>\n",
       "      <th>Feature2</th>\n",
       "    </tr>\n",
       "  </thead>\n",
       "  <tbody>\n",
       "    <tr>\n",
       "      <th>0</th>\n",
       "      <td>3</td>\n",
       "      <td>7</td>\n",
       "    </tr>\n",
       "    <tr>\n",
       "      <th>1</th>\n",
       "      <td>-4</td>\n",
       "      <td>-6</td>\n",
       "    </tr>\n",
       "    <tr>\n",
       "      <th>2</th>\n",
       "      <td>2</td>\n",
       "      <td>4</td>\n",
       "    </tr>\n",
       "    <tr>\n",
       "      <th>3</th>\n",
       "      <td>1</td>\n",
       "      <td>3</td>\n",
       "    </tr>\n",
       "    <tr>\n",
       "      <th>4</th>\n",
       "      <td>5</td>\n",
       "      <td>6</td>\n",
       "    </tr>\n",
       "  </tbody>\n",
       "</table>\n",
       "</div>"
      ],
      "text/plain": [
       "   Feature1  Feature2\n",
       "0         3         7\n",
       "1        -4        -6\n",
       "2         2         4\n",
       "3         1         3\n",
       "4         5         6"
      ]
     },
     "execution_count": 3,
     "metadata": {},
     "output_type": "execute_result"
    }
   ],
   "source": [
    "dataframe=pd.DataFrame(data,columns=['Feature1','Feature2'])\n",
    "dataframe"
   ]
  },
  {
   "cell_type": "markdown",
   "id": "2da3b858",
   "metadata": {},
   "source": [
    "### Step 1- Data must be in Std. Normal form"
   ]
  },
  {
   "cell_type": "markdown",
   "id": "89a47ef5",
   "metadata": {},
   "source": [
    "Now , check if the data is in standard normal form or not\n",
    "Mean=`0`\n",
    "Standard Deviation=`1`"
   ]
  },
  {
   "cell_type": "code",
   "execution_count": 4,
   "id": "59edba13",
   "metadata": {},
   "outputs": [
    {
     "data": {
      "text/html": [
       "<div>\n",
       "<style scoped>\n",
       "    .dataframe tbody tr th:only-of-type {\n",
       "        vertical-align: middle;\n",
       "    }\n",
       "\n",
       "    .dataframe tbody tr th {\n",
       "        vertical-align: top;\n",
       "    }\n",
       "\n",
       "    .dataframe thead th {\n",
       "        text-align: right;\n",
       "    }\n",
       "</style>\n",
       "<table border=\"1\" class=\"dataframe\">\n",
       "  <thead>\n",
       "    <tr style=\"text-align: right;\">\n",
       "      <th></th>\n",
       "      <th>Feature1</th>\n",
       "      <th>Feature2</th>\n",
       "    </tr>\n",
       "  </thead>\n",
       "  <tbody>\n",
       "    <tr>\n",
       "      <th>count</th>\n",
       "      <td>5.000000</td>\n",
       "      <td>5.000000</td>\n",
       "    </tr>\n",
       "    <tr>\n",
       "      <th>mean</th>\n",
       "      <td>1.400000</td>\n",
       "      <td>2.800000</td>\n",
       "    </tr>\n",
       "    <tr>\n",
       "      <th>std</th>\n",
       "      <td>3.361547</td>\n",
       "      <td>5.167204</td>\n",
       "    </tr>\n",
       "    <tr>\n",
       "      <th>min</th>\n",
       "      <td>-4.000000</td>\n",
       "      <td>-6.000000</td>\n",
       "    </tr>\n",
       "    <tr>\n",
       "      <th>25%</th>\n",
       "      <td>1.000000</td>\n",
       "      <td>3.000000</td>\n",
       "    </tr>\n",
       "    <tr>\n",
       "      <th>50%</th>\n",
       "      <td>2.000000</td>\n",
       "      <td>4.000000</td>\n",
       "    </tr>\n",
       "    <tr>\n",
       "      <th>75%</th>\n",
       "      <td>3.000000</td>\n",
       "      <td>6.000000</td>\n",
       "    </tr>\n",
       "    <tr>\n",
       "      <th>max</th>\n",
       "      <td>5.000000</td>\n",
       "      <td>7.000000</td>\n",
       "    </tr>\n",
       "  </tbody>\n",
       "</table>\n",
       "</div>"
      ],
      "text/plain": [
       "       Feature1  Feature2\n",
       "count  5.000000  5.000000\n",
       "mean   1.400000  2.800000\n",
       "std    3.361547  5.167204\n",
       "min   -4.000000 -6.000000\n",
       "25%    1.000000  3.000000\n",
       "50%    2.000000  4.000000\n",
       "75%    3.000000  6.000000\n",
       "max    5.000000  7.000000"
      ]
     },
     "execution_count": 4,
     "metadata": {},
     "output_type": "execute_result"
    }
   ],
   "source": [
    "dataframe.describe()"
   ]
  },
  {
   "cell_type": "markdown",
   "id": "844133a0",
   "metadata": {},
   "source": [
    "we can see that the data is not in standard normal form by mean and standard deviation. so we have to standardize the data"
   ]
  },
  {
   "cell_type": "code",
   "execution_count": 5,
   "id": "bc6e044a",
   "metadata": {},
   "outputs": [
    {
     "data": {
      "text/plain": [
       "array([[ 0.53215208,  0.90875888],\n",
       "       [-1.79601328, -1.90406622],\n",
       "       [ 0.19955703,  0.25964539],\n",
       "       [-0.13303802,  0.04327423],\n",
       "       [ 1.19734219,  0.69238772]])"
      ]
     },
     "execution_count": 5,
     "metadata": {},
     "output_type": "execute_result"
    }
   ],
   "source": [
    "from sklearn.preprocessing import StandardScaler\n",
    "\n",
    "scaler=StandardScaler() #call the model\n",
    "dataframe=scaler.fit_transform(dataframe)\n",
    "dataframe"
   ]
  },
  {
   "cell_type": "code",
   "execution_count": 6,
   "id": "d0ff3577",
   "metadata": {},
   "outputs": [
    {
     "data": {
      "text/html": [
       "<div>\n",
       "<style scoped>\n",
       "    .dataframe tbody tr th:only-of-type {\n",
       "        vertical-align: middle;\n",
       "    }\n",
       "\n",
       "    .dataframe tbody tr th {\n",
       "        vertical-align: top;\n",
       "    }\n",
       "\n",
       "    .dataframe thead th {\n",
       "        text-align: right;\n",
       "    }\n",
       "</style>\n",
       "<table border=\"1\" class=\"dataframe\">\n",
       "  <thead>\n",
       "    <tr style=\"text-align: right;\">\n",
       "      <th></th>\n",
       "      <th>Feature1</th>\n",
       "      <th>Feature2</th>\n",
       "    </tr>\n",
       "  </thead>\n",
       "  <tbody>\n",
       "    <tr>\n",
       "      <th>0</th>\n",
       "      <td>0.532152</td>\n",
       "      <td>0.908759</td>\n",
       "    </tr>\n",
       "    <tr>\n",
       "      <th>1</th>\n",
       "      <td>-1.796013</td>\n",
       "      <td>-1.904066</td>\n",
       "    </tr>\n",
       "    <tr>\n",
       "      <th>2</th>\n",
       "      <td>0.199557</td>\n",
       "      <td>0.259645</td>\n",
       "    </tr>\n",
       "    <tr>\n",
       "      <th>3</th>\n",
       "      <td>-0.133038</td>\n",
       "      <td>0.043274</td>\n",
       "    </tr>\n",
       "    <tr>\n",
       "      <th>4</th>\n",
       "      <td>1.197342</td>\n",
       "      <td>0.692388</td>\n",
       "    </tr>\n",
       "  </tbody>\n",
       "</table>\n",
       "</div>"
      ],
      "text/plain": [
       "   Feature1  Feature2\n",
       "0  0.532152  0.908759\n",
       "1 -1.796013 -1.904066\n",
       "2  0.199557  0.259645\n",
       "3 -0.133038  0.043274\n",
       "4  1.197342  0.692388"
      ]
     },
     "execution_count": 6,
     "metadata": {},
     "output_type": "execute_result"
    }
   ],
   "source": [
    "dataframe=pd.DataFrame(dataframe,columns=['Feature1','Feature2'])\n",
    "dataframe"
   ]
  },
  {
   "cell_type": "code",
   "execution_count": 7,
   "id": "41c9db50",
   "metadata": {},
   "outputs": [
    {
     "data": {
      "text/html": [
       "<div>\n",
       "<style scoped>\n",
       "    .dataframe tbody tr th:only-of-type {\n",
       "        vertical-align: middle;\n",
       "    }\n",
       "\n",
       "    .dataframe tbody tr th {\n",
       "        vertical-align: top;\n",
       "    }\n",
       "\n",
       "    .dataframe thead th {\n",
       "        text-align: right;\n",
       "    }\n",
       "</style>\n",
       "<table border=\"1\" class=\"dataframe\">\n",
       "  <thead>\n",
       "    <tr style=\"text-align: right;\">\n",
       "      <th></th>\n",
       "      <th>Feature1</th>\n",
       "      <th>Feature2</th>\n",
       "    </tr>\n",
       "  </thead>\n",
       "  <tbody>\n",
       "    <tr>\n",
       "      <th>count</th>\n",
       "      <td>5.000000</td>\n",
       "      <td>5.000000e+00</td>\n",
       "    </tr>\n",
       "    <tr>\n",
       "      <th>mean</th>\n",
       "      <td>0.000000</td>\n",
       "      <td>-2.220446e-17</td>\n",
       "    </tr>\n",
       "    <tr>\n",
       "      <th>std</th>\n",
       "      <td>1.118034</td>\n",
       "      <td>1.118034e+00</td>\n",
       "    </tr>\n",
       "    <tr>\n",
       "      <th>min</th>\n",
       "      <td>-1.796013</td>\n",
       "      <td>-1.904066e+00</td>\n",
       "    </tr>\n",
       "    <tr>\n",
       "      <th>25%</th>\n",
       "      <td>-0.133038</td>\n",
       "      <td>4.327423e-02</td>\n",
       "    </tr>\n",
       "    <tr>\n",
       "      <th>50%</th>\n",
       "      <td>0.199557</td>\n",
       "      <td>2.596454e-01</td>\n",
       "    </tr>\n",
       "    <tr>\n",
       "      <th>75%</th>\n",
       "      <td>0.532152</td>\n",
       "      <td>6.923877e-01</td>\n",
       "    </tr>\n",
       "    <tr>\n",
       "      <th>max</th>\n",
       "      <td>1.197342</td>\n",
       "      <td>9.087589e-01</td>\n",
       "    </tr>\n",
       "  </tbody>\n",
       "</table>\n",
       "</div>"
      ],
      "text/plain": [
       "       Feature1      Feature2\n",
       "count  5.000000  5.000000e+00\n",
       "mean   0.000000 -2.220446e-17\n",
       "std    1.118034  1.118034e+00\n",
       "min   -1.796013 -1.904066e+00\n",
       "25%   -0.133038  4.327423e-02\n",
       "50%    0.199557  2.596454e-01\n",
       "75%    0.532152  6.923877e-01\n",
       "max    1.197342  9.087589e-01"
      ]
     },
     "execution_count": 7,
     "metadata": {},
     "output_type": "execute_result"
    }
   ],
   "source": [
    "dataframe.describe()"
   ]
  },
  {
   "cell_type": "markdown",
   "id": "dd1d811f",
   "metadata": {},
   "source": [
    "Now our dataframe is in standard normal form.\n",
    "mean is almost =0\n",
    "standard deviation is almost =1"
   ]
  },
  {
   "cell_type": "markdown",
   "id": "d9fe5781",
   "metadata": {},
   "source": [
    "Step 1-complete \n",
    "---\n",
    "Step 2-calculate the covariance matrix\n",
    "---"
   ]
  },
  {
   "cell_type": "markdown",
   "id": "9a9aca6f",
   "metadata": {},
   "source": [
    "matrix can be calculated in two ways\n",
    "1. by formula - manual calculation\n",
    "2. by numpy"
   ]
  },
  {
   "cell_type": "code",
   "execution_count": 8,
   "id": "19eeff59",
   "metadata": {},
   "outputs": [
    {
     "data": {
      "text/html": [
       "<div>\n",
       "<style scoped>\n",
       "    .dataframe tbody tr th:only-of-type {\n",
       "        vertical-align: middle;\n",
       "    }\n",
       "\n",
       "    .dataframe tbody tr th {\n",
       "        vertical-align: top;\n",
       "    }\n",
       "\n",
       "    .dataframe thead th {\n",
       "        text-align: right;\n",
       "    }\n",
       "</style>\n",
       "<table border=\"1\" class=\"dataframe\">\n",
       "  <thead>\n",
       "    <tr style=\"text-align: right;\">\n",
       "      <th></th>\n",
       "      <th>Feature1</th>\n",
       "      <th>Feature2</th>\n",
       "    </tr>\n",
       "  </thead>\n",
       "  <tbody>\n",
       "    <tr>\n",
       "      <th>Feature1</th>\n",
       "      <td>1.250000</td>\n",
       "      <td>1.194602</td>\n",
       "    </tr>\n",
       "    <tr>\n",
       "      <th>Feature2</th>\n",
       "      <td>1.194602</td>\n",
       "      <td>1.250000</td>\n",
       "    </tr>\n",
       "  </tbody>\n",
       "</table>\n",
       "</div>"
      ],
      "text/plain": [
       "          Feature1  Feature2\n",
       "Feature1  1.250000  1.194602\n",
       "Feature2  1.194602  1.250000"
      ]
     },
     "execution_count": 8,
     "metadata": {},
     "output_type": "execute_result"
    }
   ],
   "source": [
    "covariance_matrix=(dataframe.T@dataframe)/4\n",
    "covariance_matrix"
   ]
  },
  {
   "cell_type": "code",
   "execution_count": 9,
   "id": "6e18cf79",
   "metadata": {},
   "outputs": [
    {
     "data": {
      "text/plain": [
       "array([[1.25      , 1.19460203],\n",
       "       [1.19460203, 1.25      ]])"
      ]
     },
     "execution_count": 9,
     "metadata": {},
     "output_type": "execute_result"
    }
   ],
   "source": [
    "covariance_matrix1=np.cov(dataframe.T)\n",
    "covariance_matrix1"
   ]
  },
  {
   "cell_type": "markdown",
   "id": "698b4cd6",
   "metadata": {},
   "source": [
    "---\n",
    "Step 3 - evaluate eigen value and eigen vectors using covariance matrix \n",
    "---"
   ]
  },
  {
   "cell_type": "code",
   "execution_count": 10,
   "id": "10bc06ae",
   "metadata": {},
   "outputs": [
    {
     "name": "stdout",
     "output_type": "stream",
     "text": [
      "[0.05539797 2.44460203]\n",
      "[[-0.70710678 -0.70710678]\n",
      " [ 0.70710678 -0.70710678]]\n"
     ]
    }
   ],
   "source": [
    "eigenValues,eigenVectors=np.linalg.eig(covariance_matrix)\n",
    "print(eigenValues)\n",
    "print(eigenVectors)"
   ]
  },
  {
   "cell_type": "markdown",
   "id": "517abf68",
   "metadata": {},
   "source": [
    "Highest Eigen Value=`2.44460203`"
   ]
  },
  {
   "cell_type": "markdown",
   "id": "0e5480a6",
   "metadata": {},
   "source": [
    "---\n",
    "Step 4 - extract the principal component 1 \n",
    "---"
   ]
  },
  {
   "cell_type": "code",
   "execution_count": 11,
   "id": "dd0cadb9",
   "metadata": {},
   "outputs": [
    {
     "data": {
      "text/plain": [
       "0    0.266301\n",
       "1   -0.076405\n",
       "2    0.042489\n",
       "3    0.124672\n",
       "4   -0.357057\n",
       "dtype: float64"
      ]
     },
     "execution_count": 11,
     "metadata": {},
     "output_type": "execute_result"
    }
   ],
   "source": [
    "pc1=dataframe@eigenVectors[:,0]\n",
    "pc1"
   ]
  },
  {
   "cell_type": "markdown",
   "id": "97f9dbb8",
   "metadata": {},
   "source": [
    "Thus, instad of 2 features we have 1 principal component which can be used in place of those 2 features"
   ]
  },
  {
   "cell_type": "markdown",
   "id": "c6c9af87",
   "metadata": {},
   "source": [
    "- Since we wanted to reduce the dimensionality from 2 to 1, we can use the first principal component\n",
    "but just to show , we can calculate the second principal component also"
   ]
  },
  {
   "cell_type": "code",
   "execution_count": 12,
   "id": "11d57c94",
   "metadata": {},
   "outputs": [
    {
     "data": {
      "text/plain": [
       "0   -1.018878\n",
       "1    2.616351\n",
       "2   -0.324705\n",
       "3    0.063473\n",
       "4   -1.336241\n",
       "dtype: float64"
      ]
     },
     "execution_count": 12,
     "metadata": {},
     "output_type": "execute_result"
    }
   ],
   "source": [
    "pc2=dataframe@eigenVectors[:,1]\n",
    "pc2"
   ]
  },
  {
   "cell_type": "markdown",
   "id": "bfe9b024",
   "metadata": {},
   "source": [
    "## PCA implementation using Library remaining "
   ]
  },
  {
   "cell_type": "code",
   "execution_count": null,
   "id": "1bcc8f9c",
   "metadata": {},
   "outputs": [],
   "source": []
  }
 ],
 "metadata": {
  "kernelspec": {
   "display_name": "Python 3",
   "language": "python",
   "name": "python3"
  },
  "language_info": {
   "codemirror_mode": {
    "name": "ipython",
    "version": 3
   },
   "file_extension": ".py",
   "mimetype": "text/x-python",
   "name": "python",
   "nbconvert_exporter": "python",
   "pygments_lexer": "ipython3",
   "version": "3.13.5"
  }
 },
 "nbformat": 4,
 "nbformat_minor": 5
}
